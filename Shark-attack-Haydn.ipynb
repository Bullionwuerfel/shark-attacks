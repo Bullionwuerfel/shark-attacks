{
 "cells": [
  {
   "cell_type": "code",
   "execution_count": 313,
   "id": "1b3229f7-68ce-4b6d-8d81-b4f760f09447",
   "metadata": {},
   "outputs": [],
   "source": [
    "import pandas as pd\n",
    "import numpy as np\n",
    "import re"
   ]
  },
  {
   "cell_type": "code",
   "execution_count": 314,
   "id": "c1cfaa37-5715-4a3c-aad7-9399685e030d",
   "metadata": {},
   "outputs": [],
   "source": [
    "url='https://www.sharkattackfile.net/spreadsheets/GSAF5.xls'\n",
    "shark_df = pd.read_excel(url)"
   ]
  },
  {
   "cell_type": "code",
   "execution_count": 315,
   "id": "0aeeca73-9e70-4f74-81a1-0d6198b3d7a7",
   "metadata": {},
   "outputs": [],
   "source": [
    "shark_df.rename(columns={\"Fatal Y/N\": \"Fatal\"}, inplace=True)"
   ]
  },
  {
   "cell_type": "code",
   "execution_count": 316,
   "id": "00b60f00-ef34-4e17-ba9f-15c82041e70d",
   "metadata": {},
   "outputs": [],
   "source": [
    "# Dropping unnecessary columns\n",
    "shark_df.drop(['Unnamed: 22', 'Unnamed: 21', 'original order', 'Case Number.1', 'href', 'href formula', 'pdf', 'Case Number'], axis=1, inplace=True)"
   ]
  },
  {
   "cell_type": "code",
   "execution_count": 317,
   "id": "68a7907c-0cee-4bb3-98ab-1e435f593f91",
   "metadata": {},
   "outputs": [],
   "source": [
    "shark_df.rename(columns={\"Species \": \"Species\"}, inplace = True)"
   ]
  },
  {
   "cell_type": "code",
   "execution_count": 318,
   "id": "76a4d6d0-1cc2-405c-93d5-99960f104dbd",
   "metadata": {},
   "outputs": [],
   "source": [
    "shark_df = shark_df.dropna(subset=['Species'])"
   ]
  },
  {
   "cell_type": "code",
   "execution_count": 319,
   "id": "236b54d1-f652-46cf-9bd3-9d8838013668",
   "metadata": {},
   "outputs": [],
   "source": [
    "shark_df['Species'] = shark_df['Species'].str.lower()"
   ]
  },
  {
   "cell_type": "code",
   "execution_count": 320,
   "id": "ec29c4e3-b528-4a45-a3ac-bbf9a8124be6",
   "metadata": {},
   "outputs": [],
   "source": [
    "conditions = [\n",
    "    shark_df['Species'].str.contains('white', case=False, na=False),\n",
    "    shark_df['Species'].str.contains('bull', case=False, na=False),\n",
    "    shark_df['Species'].str.contains('tiger', case=False, na=False)\n",
    "]"
   ]
  },
  {
   "cell_type": "code",
   "execution_count": 321,
   "id": "89e8f2e2-59c6-4445-b9d4-fd4eabb881d1",
   "metadata": {},
   "outputs": [],
   "source": [
    "values = [\n",
    "    'white',\n",
    "    'bull',\n",
    "    'tiger',\n",
    "]"
   ]
  },
  {
   "cell_type": "code",
   "execution_count": 322,
   "id": "fc82b2f6-1e9c-4896-896d-5a7ebbb1a4cb",
   "metadata": {},
   "outputs": [],
   "source": [
    "shark_df['Species'] = np.select(conditions, values, default='other')"
   ]
  },
  {
   "cell_type": "code",
   "execution_count": 323,
   "id": "aa4e02ca-e8c1-4674-a860-fa3d861b87ae",
   "metadata": {},
   "outputs": [],
   "source": [
    "shark_filtered = shark_df[(shark_df[\"Species\"] != \"other\") & (shark_df[\"Fatal\"] == 'Y')]"
   ]
  },
  {
   "cell_type": "code",
   "execution_count": 324,
   "id": "dbe005d9-8a89-461b-bf39-875e9e775821",
   "metadata": {},
   "outputs": [],
   "source": [
    "shark_filtered_1 = shark_df[(shark_df[\"Species\"] != \"other\")]"
   ]
  },
  {
   "cell_type": "code",
   "execution_count": 325,
   "id": "ca6af1a8-d597-4c89-9010-c46da734f7aa",
   "metadata": {},
   "outputs": [],
   "source": [
    "Total_shark_attacks = shark_filtered_1.groupby(\"Species\") [\"Fatal\"].count()"
   ]
  },
  {
   "cell_type": "code",
   "execution_count": 326,
   "id": "6d3c3717-edaa-4a53-82ae-ad4e71468383",
   "metadata": {},
   "outputs": [
    {
     "data": {
      "text/plain": [
       "Species\n",
       "bull     230\n",
       "tiger    326\n",
       "white    735\n",
       "Name: Fatal, dtype: int64"
      ]
     },
     "execution_count": 326,
     "metadata": {},
     "output_type": "execute_result"
    }
   ],
   "source": [
    "Total_shark_attacks"
   ]
  },
  {
   "cell_type": "code",
   "execution_count": 327,
   "id": "419b0857-b942-4716-9cc3-e6a417e09e71",
   "metadata": {},
   "outputs": [],
   "source": [
    "most_fatal_shark = shark_filtered.groupby([\"Species\", \"Fatal\"]) [\"Fatal\"].count()"
   ]
  },
  {
   "cell_type": "code",
   "execution_count": 328,
   "id": "15403d26-94a1-4820-8f3b-5d131e095793",
   "metadata": {},
   "outputs": [
    {
     "data": {
      "text/plain": [
       "Species  Fatal\n",
       "bull     Y         45\n",
       "tiger    Y         79\n",
       "white    Y        173\n",
       "Name: Fatal, dtype: int64"
      ]
     },
     "execution_count": 328,
     "metadata": {},
     "output_type": "execute_result"
    }
   ],
   "source": [
    "most_fatal_shark"
   ]
  },
  {
   "cell_type": "code",
   "execution_count": 329,
   "id": "74b1c64c-2ff3-4eb3-9150-9b8a79e101b2",
   "metadata": {},
   "outputs": [],
   "source": [
    "total_filter = shark_filtered_1[\"Fatal\"].count()"
   ]
  }
 ],
 "metadata": {
  "kernelspec": {
   "display_name": "Python 3 (ipykernel)",
   "language": "python",
   "name": "python3"
  },
  "language_info": {
   "codemirror_mode": {
    "name": "ipython",
    "version": 3
   },
   "file_extension": ".py",
   "mimetype": "text/x-python",
   "name": "python",
   "nbconvert_exporter": "python",
   "pygments_lexer": "ipython3",
   "version": "3.12.8"
  }
 },
 "nbformat": 4,
 "nbformat_minor": 5
}
