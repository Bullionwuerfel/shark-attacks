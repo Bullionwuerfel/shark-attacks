{
 "cells": [
  {
   "cell_type": "code",
   "execution_count": 280,
   "id": "1b3229f7-68ce-4b6d-8d81-b4f760f09447",
   "metadata": {},
   "outputs": [],
   "source": [
    "import pandas as pd"
   ]
  },
  {
   "cell_type": "code",
   "execution_count": 282,
   "id": "c1cfaa37-5715-4a3c-aad7-9399685e030d",
   "metadata": {},
   "outputs": [],
   "source": [
    "url='https://www.sharkattackfile.net/spreadsheets/GSAF5.xls'\n",
    "shark_df = pd.read_excel(url)"
   ]
  },
  {
   "cell_type": "code",
   "execution_count": 283,
   "id": "0aeeca73-9e70-4f74-81a1-0d6198b3d7a7",
   "metadata": {},
   "outputs": [],
   "source": [
    "shark_df.rename(columns={\"Fatal Y/N\": \"Fatal\"}, inplace=True)"
   ]
  },
  {
   "cell_type": "code",
   "execution_count": 284,
   "id": "00b60f00-ef34-4e17-ba9f-15c82041e70d",
   "metadata": {},
   "outputs": [],
   "source": [
    "# Dropping unnecessary columns\n",
    "shark_df.drop(['Unnamed: 22', 'Unnamed: 21', 'original order', 'Case Number.1', 'href', 'href formula', 'pdf', 'Case Number'], axis=1, inplace=True)"
   ]
  },
  {
   "cell_type": "code",
   "execution_count": 285,
   "id": "68a7907c-0cee-4bb3-98ab-1e435f593f91",
   "metadata": {},
   "outputs": [],
   "source": [
    "shark_df.rename(columns={\"Species \": \"Species\"}, inplace = True)"
   ]
  },
  {
   "cell_type": "code",
   "execution_count": 286,
   "id": "e646431d-01e8-4930-a883-2d807a2aeac4",
   "metadata": {},
   "outputs": [],
   "source": [
    "shark_df = shark_df.dropna(how='all')"
   ]
  },
  {
   "cell_type": "code",
   "execution_count": 433,
   "id": "8de263ee-3891-4352-8fc2-8e2c20fa469f",
   "metadata": {},
   "outputs": [],
   "source": [
    "species_df = shark_df.dropna(subset=['Species'])"
   ]
  },
  {
   "cell_type": "code",
   "execution_count": 289,
   "id": "fe7527e9-0267-426c-96f5-fbdc648443c7",
   "metadata": {},
   "outputs": [],
   "source": [
    "def map_species(value):\n",
    "        if 'white' in value.lower():\n",
    "            return 'white'\n",
    "        elif 'tiger' in value.lower():\n",
    "            return 'tiger'\n",
    "        elif 'bull' in value.lower():\n",
    "            return 'bull'\n",
    "        else:\n",
    "            return 'none'"
   ]
  },
  {
   "cell_type": "code",
   "execution_count": 290,
   "id": "01733d2e-f489-493c-b9e9-ac8199980733",
   "metadata": {},
   "outputs": [],
   "source": [
    "species_df['Species'] = species_df['Species'].apply(map_species)"
   ]
  },
  {
   "cell_type": "code",
   "execution_count": 422,
   "id": "9ccfcb38-9bab-4a46-8b73-61099fe43105",
   "metadata": {},
   "outputs": [
    {
     "data": {
      "text/html": [
       "<div>\n",
       "<style scoped>\n",
       "    .dataframe tbody tr th:only-of-type {\n",
       "        vertical-align: middle;\n",
       "    }\n",
       "\n",
       "    .dataframe tbody tr th {\n",
       "        vertical-align: top;\n",
       "    }\n",
       "\n",
       "    .dataframe thead th {\n",
       "        text-align: right;\n",
       "    }\n",
       "</style>\n",
       "<table border=\"1\" class=\"dataframe\">\n",
       "  <thead>\n",
       "    <tr style=\"text-align: right;\">\n",
       "      <th></th>\n",
       "      <th>index</th>\n",
       "      <th>Date</th>\n",
       "      <th>Year</th>\n",
       "      <th>Type</th>\n",
       "      <th>Country</th>\n",
       "      <th>State</th>\n",
       "      <th>Location</th>\n",
       "      <th>Activity</th>\n",
       "      <th>Name</th>\n",
       "      <th>Sex</th>\n",
       "      <th>Age</th>\n",
       "      <th>Injury</th>\n",
       "      <th>Fatal</th>\n",
       "      <th>Time</th>\n",
       "      <th>Species</th>\n",
       "      <th>Source</th>\n",
       "    </tr>\n",
       "  </thead>\n",
       "  <tbody>\n",
       "    <tr>\n",
       "      <th>0</th>\n",
       "      <td>0</td>\n",
       "      <td>2025-01-11 00:00:00</td>\n",
       "      <td>2025.0</td>\n",
       "      <td>Provoked</td>\n",
       "      <td>USA</td>\n",
       "      <td>Hawaii</td>\n",
       "      <td>Off Haleiwa Boat Harbour Oahu</td>\n",
       "      <td>Diving</td>\n",
       "      <td>Male not stated was a dive tour worker</td>\n",
       "      <td>M</td>\n",
       "      <td>23</td>\n",
       "      <td>Bitten on the arm</td>\n",
       "      <td>N</td>\n",
       "      <td>1340hrs</td>\n",
       "      <td>none</td>\n",
       "      <td>Kevin McMurray Trackingsharks.com</td>\n",
       "    </tr>\n",
       "    <tr>\n",
       "      <th>1</th>\n",
       "      <td>1</td>\n",
       "      <td>2025-01-02 00:00:00</td>\n",
       "      <td>2025.0</td>\n",
       "      <td>Unprovoked</td>\n",
       "      <td>New Caledonia</td>\n",
       "      <td>Grande Terre</td>\n",
       "      <td>Islet of Kendek near Koumac</td>\n",
       "      <td>Spearfishing</td>\n",
       "      <td>Robert Cuewapuru</td>\n",
       "      <td>M</td>\n",
       "      <td>40</td>\n",
       "      <td>Severe arm injury and delay in medical treatme...</td>\n",
       "      <td>Y</td>\n",
       "      <td>1615hr</td>\n",
       "      <td>tiger</td>\n",
       "      <td>Johannes Marchand Todd Smith</td>\n",
       "    </tr>\n",
       "    <tr>\n",
       "      <th>2</th>\n",
       "      <td>2</td>\n",
       "      <td>2025-01-02 00:00:00</td>\n",
       "      <td>2025.0</td>\n",
       "      <td>Unprovoked</td>\n",
       "      <td>Australia</td>\n",
       "      <td>South Australia</td>\n",
       "      <td>Granites Beach near Westall Streaky Bay</td>\n",
       "      <td>Surfing</td>\n",
       "      <td>Lance Appleby</td>\n",
       "      <td>M</td>\n",
       "      <td>28</td>\n",
       "      <td>Body not recovered</td>\n",
       "      <td>Y</td>\n",
       "      <td>1710hr</td>\n",
       "      <td>white</td>\n",
       "      <td>Glen Folkard: Simon De Marchi News.com.au: The...</td>\n",
       "    </tr>\n",
       "    <tr>\n",
       "      <th>3</th>\n",
       "      <td>3</td>\n",
       "      <td>2024-12-29 00:00:00</td>\n",
       "      <td>2024.0</td>\n",
       "      <td>Unprovoked</td>\n",
       "      <td>Egypt</td>\n",
       "      <td>North of Marsa Alam</td>\n",
       "      <td>Red Sea</td>\n",
       "      <td>SCUBA Diving</td>\n",
       "      <td>Peppino Fappani</td>\n",
       "      <td>M</td>\n",
       "      <td>69</td>\n",
       "      <td>Injuries to stomach preventing attack on friend</td>\n",
       "      <td>N</td>\n",
       "      <td>?</td>\n",
       "      <td>tiger</td>\n",
       "      <td>Todd Smith : Kevin McMurray Trackingsharks .co...</td>\n",
       "    </tr>\n",
       "    <tr>\n",
       "      <th>4</th>\n",
       "      <td>4</td>\n",
       "      <td>2024-12-29 00:00:00</td>\n",
       "      <td>2024.0</td>\n",
       "      <td>Unprovoked</td>\n",
       "      <td>Egypt</td>\n",
       "      <td>North of Marsa Alam</td>\n",
       "      <td>Red Sea</td>\n",
       "      <td>SCUBA Diving</td>\n",
       "      <td>Gianluca Di Gioia</td>\n",
       "      <td>M</td>\n",
       "      <td>48</td>\n",
       "      <td>Entire calf muscle removed and bitten both arm...</td>\n",
       "      <td>Y</td>\n",
       "      <td>?</td>\n",
       "      <td>tiger</td>\n",
       "      <td>Todd Smith : Kevin McMurray Trackingsharks .co...</td>\n",
       "    </tr>\n",
       "    <tr>\n",
       "      <th>...</th>\n",
       "      <td>...</td>\n",
       "      <td>...</td>\n",
       "      <td>...</td>\n",
       "      <td>...</td>\n",
       "      <td>...</td>\n",
       "      <td>...</td>\n",
       "      <td>...</td>\n",
       "      <td>...</td>\n",
       "      <td>...</td>\n",
       "      <td>...</td>\n",
       "      <td>...</td>\n",
       "      <td>...</td>\n",
       "      <td>...</td>\n",
       "      <td>...</td>\n",
       "      <td>...</td>\n",
       "      <td>...</td>\n",
       "    </tr>\n",
       "    <tr>\n",
       "      <th>3853</th>\n",
       "      <td>6964</td>\n",
       "      <td>Early 1930s</td>\n",
       "      <td>0.0</td>\n",
       "      <td>Unprovoked</td>\n",
       "      <td>BELIZE</td>\n",
       "      <td>NaN</td>\n",
       "      <td>NaN</td>\n",
       "      <td>Standing</td>\n",
       "      <td>a servant</td>\n",
       "      <td>M</td>\n",
       "      <td>16</td>\n",
       "      <td>FATAL</td>\n",
       "      <td>Y</td>\n",
       "      <td>NaN</td>\n",
       "      <td>tiger</td>\n",
       "      <td>Mitchell-Hedges</td>\n",
       "    </tr>\n",
       "    <tr>\n",
       "      <th>3854</th>\n",
       "      <td>6981</td>\n",
       "      <td>Before 1906</td>\n",
       "      <td>0.0</td>\n",
       "      <td>Unprovoked</td>\n",
       "      <td>AUSTRALIA</td>\n",
       "      <td>NaN</td>\n",
       "      <td>NaN</td>\n",
       "      <td>Fishing</td>\n",
       "      <td>boy</td>\n",
       "      <td>M</td>\n",
       "      <td>NaN</td>\n",
       "      <td>FATAL, knocked overboard by tail of shark &amp; ca...</td>\n",
       "      <td>Y</td>\n",
       "      <td>NaN</td>\n",
       "      <td>none</td>\n",
       "      <td>NY Sun, 9/9/1906, referring to account by Loui...</td>\n",
       "    </tr>\n",
       "    <tr>\n",
       "      <th>3855</th>\n",
       "      <td>6982</td>\n",
       "      <td>Before 1906</td>\n",
       "      <td>0.0</td>\n",
       "      <td>Unprovoked</td>\n",
       "      <td>AUSTRALIA</td>\n",
       "      <td>NaN</td>\n",
       "      <td>NaN</td>\n",
       "      <td>Fishing</td>\n",
       "      <td>fisherman</td>\n",
       "      <td>M</td>\n",
       "      <td>NaN</td>\n",
       "      <td>FATAL</td>\n",
       "      <td>Y</td>\n",
       "      <td>NaN</td>\n",
       "      <td>none</td>\n",
       "      <td>NY Sun, 9/9/1906, referring to account by Loui...</td>\n",
       "    </tr>\n",
       "    <tr>\n",
       "      <th>3856</th>\n",
       "      <td>6983</td>\n",
       "      <td>Before 1906</td>\n",
       "      <td>0.0</td>\n",
       "      <td>Unprovoked</td>\n",
       "      <td>AUSTRALIA</td>\n",
       "      <td>NaN</td>\n",
       "      <td>NaN</td>\n",
       "      <td>Fishing</td>\n",
       "      <td>fisherman</td>\n",
       "      <td>M</td>\n",
       "      <td>NaN</td>\n",
       "      <td>FATAL</td>\n",
       "      <td>Y</td>\n",
       "      <td>NaN</td>\n",
       "      <td>none</td>\n",
       "      <td>NY Sun, 9/9/1906, referring to account by Loui...</td>\n",
       "    </tr>\n",
       "    <tr>\n",
       "      <th>3857</th>\n",
       "      <td>6984</td>\n",
       "      <td>Before 1906</td>\n",
       "      <td>0.0</td>\n",
       "      <td>Unprovoked</td>\n",
       "      <td>AUSTRALIA</td>\n",
       "      <td>New South Wales</td>\n",
       "      <td></td>\n",
       "      <td>Swimming</td>\n",
       "      <td>Arab boy</td>\n",
       "      <td>M</td>\n",
       "      <td>NaN</td>\n",
       "      <td>FATAL</td>\n",
       "      <td>Y</td>\n",
       "      <td>NaN</td>\n",
       "      <td>none</td>\n",
       "      <td>L. Becke in New York Sun, 9/9/1906; L. Schultz...</td>\n",
       "    </tr>\n",
       "  </tbody>\n",
       "</table>\n",
       "<p>3858 rows × 16 columns</p>\n",
       "</div>"
      ],
      "text/plain": [
       "      index                 Date    Year        Type        Country  \\\n",
       "0         0  2025-01-11 00:00:00  2025.0    Provoked            USA   \n",
       "1         1  2025-01-02 00:00:00  2025.0  Unprovoked  New Caledonia   \n",
       "2         2  2025-01-02 00:00:00  2025.0  Unprovoked      Australia   \n",
       "3         3  2024-12-29 00:00:00  2024.0  Unprovoked          Egypt   \n",
       "4         4  2024-12-29 00:00:00  2024.0  Unprovoked          Egypt   \n",
       "...     ...                  ...     ...         ...            ...   \n",
       "3853   6964          Early 1930s     0.0  Unprovoked         BELIZE   \n",
       "3854   6981          Before 1906     0.0  Unprovoked      AUSTRALIA   \n",
       "3855   6982          Before 1906     0.0  Unprovoked      AUSTRALIA   \n",
       "3856   6983          Before 1906     0.0  Unprovoked      AUSTRALIA   \n",
       "3857   6984          Before 1906     0.0  Unprovoked      AUSTRALIA   \n",
       "\n",
       "                    State                                 Location  \\\n",
       "0                  Hawaii            Off Haleiwa Boat Harbour Oahu   \n",
       "1            Grande Terre              Islet of Kendek near Koumac   \n",
       "2         South Australia  Granites Beach near Westall Streaky Bay   \n",
       "3     North of Marsa Alam                                  Red Sea   \n",
       "4     North of Marsa Alam                                  Red Sea   \n",
       "...                   ...                                      ...   \n",
       "3853                  NaN                                      NaN   \n",
       "3854                  NaN                                      NaN   \n",
       "3855                  NaN                                      NaN   \n",
       "3856                  NaN                                      NaN   \n",
       "3857      New South Wales                                            \n",
       "\n",
       "          Activity                                    Name Sex  Age  \\\n",
       "0           Diving  Male not stated was a dive tour worker   M   23   \n",
       "1     Spearfishing                        Robert Cuewapuru   M   40   \n",
       "2          Surfing                           Lance Appleby   M   28   \n",
       "3     SCUBA Diving                         Peppino Fappani   M   69   \n",
       "4     SCUBA Diving                       Gianluca Di Gioia   M   48   \n",
       "...            ...                                     ...  ..  ...   \n",
       "3853      Standing                               a servant   M   16   \n",
       "3854       Fishing                                     boy   M  NaN   \n",
       "3855       Fishing                               fisherman   M  NaN   \n",
       "3856       Fishing                               fisherman   M  NaN   \n",
       "3857      Swimming                                Arab boy   M  NaN   \n",
       "\n",
       "                                                 Injury Fatal     Time  \\\n",
       "0                                     Bitten on the arm     N  1340hrs   \n",
       "1     Severe arm injury and delay in medical treatme...     Y   1615hr   \n",
       "2                                    Body not recovered     Y   1710hr   \n",
       "3       Injuries to stomach preventing attack on friend     N        ?   \n",
       "4     Entire calf muscle removed and bitten both arm...     Y        ?   \n",
       "...                                                 ...   ...      ...   \n",
       "3853                                              FATAL     Y      NaN   \n",
       "3854  FATAL, knocked overboard by tail of shark & ca...     Y      NaN   \n",
       "3855                                              FATAL     Y      NaN   \n",
       "3856                                              FATAL     Y      NaN   \n",
       "3857                                              FATAL     Y      NaN   \n",
       "\n",
       "     Species                                             Source  \n",
       "0       none                  Kevin McMurray Trackingsharks.com  \n",
       "1      tiger                      Johannes Marchand Todd Smith   \n",
       "2      white  Glen Folkard: Simon De Marchi News.com.au: The...  \n",
       "3      tiger  Todd Smith : Kevin McMurray Trackingsharks .co...  \n",
       "4      tiger  Todd Smith : Kevin McMurray Trackingsharks .co...  \n",
       "...      ...                                                ...  \n",
       "3853   tiger                                    Mitchell-Hedges  \n",
       "3854    none  NY Sun, 9/9/1906, referring to account by Loui...  \n",
       "3855    none  NY Sun, 9/9/1906, referring to account by Loui...  \n",
       "3856    none  NY Sun, 9/9/1906, referring to account by Loui...  \n",
       "3857    none  L. Becke in New York Sun, 9/9/1906; L. Schultz...  \n",
       "\n",
       "[3858 rows x 16 columns]"
      ]
     },
     "execution_count": 422,
     "metadata": {},
     "output_type": "execute_result"
    }
   ],
   "source": [
    "species_df.reset_index()"
   ]
  },
  {
   "cell_type": "code",
   "execution_count": 424,
   "id": "30393566-badd-446f-86f2-c3aacc08316c",
   "metadata": {},
   "outputs": [],
   "source": [
    "fatal_filter = species_df[(species_df['Species'] != 'none') & (species_df['Fatal'] == 'Y')]"
   ]
  },
  {
   "cell_type": "code",
   "execution_count": 426,
   "id": "ca6af1a8-d597-4c89-9010-c46da734f7aa",
   "metadata": {},
   "outputs": [],
   "source": [
    "fatal_attacks = fatal_filter.groupby(\"Species\") [\"Fatal\"].count()"
   ]
  },
  {
   "cell_type": "code",
   "execution_count": 428,
   "id": "6d3c3717-edaa-4a53-82ae-ad4e71468383",
   "metadata": {},
   "outputs": [
    {
     "data": {
      "text/plain": [
       "Species\n",
       "bull      40\n",
       "tiger     84\n",
       "white    173\n",
       "Name: Fatal, dtype: int64"
      ]
     },
     "execution_count": 428,
     "metadata": {},
     "output_type": "execute_result"
    }
   ],
   "source": [
    "fatal_attacks"
   ]
  },
  {
   "cell_type": "code",
   "execution_count": 430,
   "id": "baa0ebbc-5e9a-4045-8c85-ce3d5b2d7a60",
   "metadata": {},
   "outputs": [
    {
     "data": {
      "text/plain": [
       "297"
      ]
     },
     "execution_count": 430,
     "metadata": {},
     "output_type": "execute_result"
    }
   ],
   "source": [
    "fatal_attacks.sum()"
   ]
  },
  {
   "cell_type": "code",
   "execution_count": 408,
   "id": "dbe005d9-8a89-461b-bf39-875e9e775821",
   "metadata": {},
   "outputs": [],
   "source": [
    "total_filter = species_df[(species_df[\"Species\"] != \"none\")]"
   ]
  },
  {
   "cell_type": "code",
   "execution_count": 410,
   "id": "419b0857-b942-4716-9cc3-e6a417e09e71",
   "metadata": {},
   "outputs": [],
   "source": [
    "total_attacks = total_filter.groupby(\"Species\") [\"Fatal\"].count()"
   ]
  },
  {
   "cell_type": "code",
   "execution_count": 418,
   "id": "b4bdefd1-b4f4-411e-9dd4-f3f3522e73d2",
   "metadata": {},
   "outputs": [
    {
     "data": {
      "text/plain": [
       "Species\n",
       "bull     221\n",
       "tiger    335\n",
       "white    735\n",
       "Name: Fatal, dtype: int64"
      ]
     },
     "execution_count": 418,
     "metadata": {},
     "output_type": "execute_result"
    }
   ],
   "source": [
    "total_attacks"
   ]
  },
  {
   "cell_type": "code",
   "execution_count": 416,
   "id": "40a33c69-06c5-48bb-ab04-b231c3d680a3",
   "metadata": {},
   "outputs": [
    {
     "data": {
      "text/plain": [
       "1291"
      ]
     },
     "execution_count": 416,
     "metadata": {},
     "output_type": "execute_result"
    }
   ],
   "source": [
    "total_attacks.sum()"
   ]
  },
  {
   "cell_type": "code",
   "execution_count": null,
   "id": "ae047877-9a90-46b7-bdec-6ed89b0cf1b8",
   "metadata": {},
   "outputs": [],
   "source": []
  },
  {
   "cell_type": "code",
   "execution_count": null,
   "id": "28f81b3d-9385-455e-b22d-e165461d43d5",
   "metadata": {},
   "outputs": [],
   "source": []
  },
  {
   "cell_type": "code",
   "execution_count": null,
   "id": "f144554a-da1f-426d-a89f-668415ab0ab8",
   "metadata": {},
   "outputs": [],
   "source": []
  },
  {
   "cell_type": "code",
   "execution_count": null,
   "id": "96f06b1b-dc30-4803-bb99-2024aefb07a4",
   "metadata": {},
   "outputs": [],
   "source": []
  },
  {
   "cell_type": "code",
   "execution_count": null,
   "id": "fce837f3-f85d-4f08-97eb-eaf8bd48fa6d",
   "metadata": {},
   "outputs": [],
   "source": []
  },
  {
   "cell_type": "code",
   "execution_count": null,
   "id": "a6382084-1ae4-4bf7-8603-8be7e9600daf",
   "metadata": {},
   "outputs": [],
   "source": []
  }
 ],
 "metadata": {
  "kernelspec": {
   "display_name": "Python [conda env:base] *",
   "language": "python",
   "name": "conda-base-py"
  },
  "language_info": {
   "codemirror_mode": {
    "name": "ipython",
    "version": 3
   },
   "file_extension": ".py",
   "mimetype": "text/x-python",
   "name": "python",
   "nbconvert_exporter": "python",
   "pygments_lexer": "ipython3",
   "version": "3.12.7"
  }
 },
 "nbformat": 4,
 "nbformat_minor": 5
}
